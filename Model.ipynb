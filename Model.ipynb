{
 "cells": [
  {
   "cell_type": "markdown",
   "metadata": {},
   "source": [
    "# Introduction\n",
    "\n",
    "Ce notebook a pour objectif de rechercher le meilleur modèle de prédiction pour des données déjà traitées. Un des points importants qu'ilm conviendra de résoudre est le déséquilibre entre les classes. Pöur résoudre ce problème, plusieurs possibilités s'offrent à nous. Il conviendra de tester différentes méthodes mais également de tester des combinaisons de méthodes.\n",
    "\n",
    " Méthodes de gestion du déséquilibre de classe et un exemple :\n",
    "     \n",
    "     - choix de métriques adaptées (Score Fbeta)\n",
    "     \n",
    "     - pondération des erreurs en fonction du déséquilibre des classes (class_weight)\n",
    "     \n",
    "     - choix d'algorithmes adaptés (Random forest)\n",
    "     \n",
    "     - Sous ou sur échantillonnage (SMOTE)"
   ]
  },
  {
   "cell_type": "markdown",
   "metadata": {},
   "source": [
    "Choix des métriques adaptées :\n",
    "Dans le cas de classes déséquilibrées, il est fréquent que toutes les erreurs ne se valent pas. Ici, les évènements positifs (défaut de paiement) son bien plus rares que les évènements négatifs. D'un point de vue purement rentable, il vaut mieux faire l'erreur de ne pas octroyer de prêt à un bon payeur que d'en octroyer un à un mauvais payeur. Avoir des faux positifs est donc plus désirable que d'avoir des faux négatifs.\n",
    "\n",
    "La question est plus complexe s'il on intègre des notions d'éthique, puisque refuser un prêt à un bon payeur à des conséquences négatives, ainsi il faudrait discuter des problématiques éthiques à refuser l'ocrtoi d'un prêt à un bon payeur ou en octroyer un à un mauvais payeur. Il faudrait ensuite calculer un coefficient de non-désirabilité qui permettrait d'évaluer quelle est l'importance des faux positifs par rapport aux faux négatifs.\n",
    "\n",
    "C'est une question complexe qui demande une réflexion éthique et économique.\n",
    "\n",
    "Pour l'exercice, nous fixerons le rapport de non désirabilité à cette règle : un faux négatif a un impact négatif 10 fois plus important qu'un faux positif.\n",
    "\n",
    "A partir de cette règle on peut déterminer le paramètre beta d'un F-beta score qui permettra d'adapter la métrique d'évaluation au problème de déséquilibre des classes et de la différence d'impact des erreurs. Dans ce cas, c'est le recall qui aura plus d'importance que la precision. beta = racine_carrée(10)"
   ]
  },
  {
   "cell_type": "markdown",
   "metadata": {},
   "source": [
    "Pondération  des erreurs :\n",
    "La méthode de pondération des erreurs en fonction du déséquilibre des classes consiste à considérer les erreurs effectuées sur la classe mineure comme plus importantes que celles commises sur la classe majeure. Le ratio qui relie ces importances peut correspondre au ratio du nombre d'observations entre la classe mineure et la classe majeure.\n",
    "\n",
    "Il me semble que cette méthode est redondante avec le choix d'un F-beta score bien que le F-beta soit conçu pour refléter la gravité d'une erreur plutôt qu'une autre alors que le class_weight est conçu pour s'adapter au déséquilibre dans le nombre d'observations. On testera son effet pour le vérifier."
   ]
  },
  {
   "cell_type": "markdown",
   "metadata": {},
   "source": [
    "# Stratégie \n",
    "\n",
    "En utilisant une métrique F-beta score pondérée pour donner plus d'importance aux faux négatifs (qui sont des erreurs plus importantes), on va rechercher les meilleurs hyper paramètres sur 4 types d'algorithmes différents en utilisant la recherche par grille avec validation croisée et en utilisant le jeu de données sous-échantillonnée pour accélérer les calculs. \n",
    "\n",
    "Ensuite, une fois les hyper paramètres trouvés, on testera les 3 jeux de données avec chaque algorithme et on consultera la courbe ROC pour d'éventuelles optimisations du seuil. Une fois le modèle optimal choisi, on testera l'impact du class_weight. On terminera par une synthèse des modèles pour chaque jeu de données."
   ]
  },
  {
   "cell_type": "code",
   "execution_count": 1,
   "metadata": {},
   "outputs": [
    {
     "name": "stdout",
     "output_type": "stream",
     "text": [
      "Requirement already up-to-date: imbalanced-learn in g:\\softwares\\anaconda3\\lib\\site-packages (0.8.1)\n",
      "Requirement already satisfied, skipping upgrade: scipy>=0.19.1 in g:\\softwares\\anaconda3\\lib\\site-packages (from imbalanced-learn) (1.5.2)\n",
      "Requirement already satisfied, skipping upgrade: joblib>=0.11 in g:\\softwares\\anaconda3\\lib\\site-packages (from imbalanced-learn) (0.17.0)\n",
      "Requirement already satisfied, skipping upgrade: scikit-learn>=0.24 in g:\\softwares\\anaconda3\\lib\\site-packages (from imbalanced-learn) (1.0.1)\n",
      "Requirement already satisfied, skipping upgrade: numpy>=1.13.3 in g:\\softwares\\anaconda3\\lib\\site-packages (from imbalanced-learn) (1.19.2)\n",
      "Requirement already satisfied, skipping upgrade: threadpoolctl>=2.0.0 in g:\\softwares\\anaconda3\\lib\\site-packages (from scikit-learn>=0.24->imbalanced-learn) (2.1.0)\n",
      "Note: you may need to restart the kernel to use updated packages.\n"
     ]
    }
   ],
   "source": [
    "pip install -U imbalanced-learn"
   ]
  },
  {
   "cell_type": "code",
   "execution_count": 4,
   "metadata": {},
   "outputs": [],
   "source": [
    "import os, sys\n",
    "import pandas as pd\n",
    "import numpy as np\n",
    "from time import time\n",
    "from sklearn.model_selection import GridSearchCV\n",
    "import matplotlib.pyplot as plt\n",
    "\n",
    "# Affichage de toutes les colonnes et lignes lorsque demandé\n",
    "pd.set_option('display.max_rows', None)\n",
    "pd.set_option('display.max_columns', None)"
   ]
  },
  {
   "cell_type": "code",
   "execution_count": 5,
   "metadata": {},
   "outputs": [],
   "source": [
    "# Import du fichier de données pré-traitées\n",
    "default_dir = \"G:/OCDataScientist/Projet7\"\n",
    "data = pd.read_csv(os.path.join(default_dir,'data_train.csv'))\n",
    "SK_ID_CURR = data.pop('SK_ID_CURR')\n",
    "\n",
    "# Création d'un imputer pour remplacer les valeurs manquantes\n",
    "from sklearn.impute import SimpleImputer\n",
    "imputer = SimpleImputer(missing_values=np.nan, strategy='mean')\n",
    "# Remplacement des valeurs manquantes\n",
    "temp_DF = pd.DataFrame(imputer.fit_transform(data))\n",
    "# Réintégration des colonnes et index\n",
    "temp_DF.columns = data.columns\n",
    "temp_DF.index = data.index\n",
    "data = temp_DF\n",
    "\n",
    "# Création d'un scaler 0-1\n",
    "from sklearn.preprocessing import MinMaxScaler\n",
    "scaler = MinMaxScaler(feature_range = (0, 1))\n",
    "scaler.fit(data)\n",
    "\n",
    "# Normalisation des variables\n",
    "temp_DF = pd.DataFrame(scaler.transform(data))\n",
    "# Réintégration des colonnes et index\n",
    "temp_DF.columns = data.columns\n",
    "temp_DF.index = data.index\n",
    "data = temp_DF\n",
    "\n",
    "# Sauvegarde du DataFrame des données prêtes à être modélisées\n",
    "#Export des fichiers de données traités\n",
    "output_dir = \"G:/OCDataScientist/Projet7\"\n",
    "data.to_csv(os.path.join(output_dir,'data_train_std.csv'), index=False)\n",
    "\n",
    "# Décomposition train/test\n",
    "y = data['TARGET'].values\n",
    "X = data.drop(columns = ['TARGET']).values\n",
    "from sklearn import model_selection\n",
    "X_train, X_test, y_train, y_test = model_selection.train_test_split(X, y, test_size=0.3,\n",
    "                                                                    random_state=0)"
   ]
  },
  {
   "cell_type": "code",
   "execution_count": null,
   "metadata": {},
   "outputs": [],
   "source": [
    "data.head()"
   ]
  },
  {
   "cell_type": "code",
   "execution_count": null,
   "metadata": {},
   "outputs": [],
   "source": [
    "# Affichage des classes avec t-sne\n",
    "from sklearn import manifold\n",
    "pca = manifold.TSNE(n_components=2, perplexity=30, n_iter=5000, init='pca')\n",
    "# Sous échantillonnage pour réduire les temps de calcul\n",
    "data_sample = data.sample(n=5000)\n",
    "y_sample = data_sample['TARGET'].values\n",
    "X_sample = data_sample.drop(columns = ['TARGET']).values\n",
    "\n",
    "X_pca = pca.fit_transform(X_sample)"
   ]
  },
  {
   "cell_type": "code",
   "execution_count": null,
   "metadata": {
    "scrolled": true
   },
   "outputs": [],
   "source": [
    "# Graphique de visualisation des classes selon deux composantes t-sne\n",
    "plt.figure(figsize=(16,16))\n",
    "plt.scatter(X_pca[:,0],X_pca[:,1],c=y_sample.astype(np.float), cmap = 'jet', alpha=.2)\n",
    "plt.title('Visualisation t-sne des classes', fontsize = 15, pad = 35, fontweight = 'bold')\n",
    "\n",
    "plt.show()"
   ]
  },
  {
   "cell_type": "markdown",
   "metadata": {},
   "source": [
    "Si des clusters se démarquent, ils ne correspondent pas aux classes. Il semble qu'une classification efficace sera très compliquée à mettre en oeuvre."
   ]
  },
  {
   "cell_type": "code",
   "execution_count": 11,
   "metadata": {},
   "outputs": [
    {
     "name": "stdout",
     "output_type": "stream",
     "text": [
      "Répartition originale: Counter({0.0: 197772, 1.0: 17485})\n",
      "Répartition après sous-échantillonnage Counter({0.0: 17485, 1.0: 17485})\n"
     ]
    }
   ],
   "source": [
    "# Sous-échantillonnage\n",
    "from imblearn.under_sampling import RandomUnderSampler\n",
    "rus = RandomUnderSampler(random_state=0, replacement=True)\n",
    "X_train_rus, y_train_rus = rus.fit_resample(X_train, y_train)\n",
    "\n",
    "# Vérification\n",
    "from collections import Counter\n",
    "print('Répartition originale:', Counter(y_train))\n",
    "print('Répartition après sous-échantillonnage', Counter(y_train_rus))"
   ]
  },
  {
   "cell_type": "code",
   "execution_count": null,
   "metadata": {},
   "outputs": [],
   "source": [
    "# Sur-échantillonnage SMOTE\n",
    "from imblearn.over_sampling import SMOTE\n",
    "smote = SMOTE()\n",
    "X_train_smote, y_train_smote = smote.fit_resample(X_train, y_train)\n",
    "\n",
    "# Vérification\n",
    "from collections import Counter\n",
    "print('Répartition originale:', Counter(y_train))\n",
    "print('Répartition après sur-échantillonnage', Counter(y_train_smote))"
   ]
  },
  {
   "cell_type": "code",
   "execution_count": 9,
   "metadata": {},
   "outputs": [],
   "source": [
    "# Création d'une métrique adaptée Fbeta score pour le GridSearchCV\n",
    "from sklearn import metrics\n",
    "target = metrics.make_scorer(metrics.fbeta_score, beta=3.16)"
   ]
  },
  {
   "cell_type": "code",
   "execution_count": null,
   "metadata": {},
   "outputs": [],
   "source": [
    "# KNN\n",
    "from sklearn.neighbors import KNeighborsClassifier\n",
    "# Pour le modèle KNN, les paramètres par défauts conviendront.\n",
    "\n",
    "# Entrainement sur le jeu de données déséquilibré\n",
    "knn_imb = KNeighborsClassifier(n_jobs = -1)\n",
    "start = time()\n",
    "knn_imb.fit(X_train, y_train)\n",
    "end = time()\n",
    "time_knn_imb_train = end - start\n",
    "print(\"Training Time: {:.2f}\".format(time_knn_imb_train))\n",
    "# Prédiction\n",
    "start = time()\n",
    "y_knn_imb_pred = knn_imb.predict(X_test)\n",
    "end = time()\n",
    "time_knn_imb_pred = end - start\n",
    "print(\"Testing Time: {:.2f}\".format(time_knn_imb_pred))\n",
    "# Métriques\n",
    "acc_knn_imb = metrics.accuracy_score(y_test, y_knn_imb_pred)\n",
    "print(\"Accuracy: {:.3f}\".format(acc_knn_imb))\n",
    "fbeta_knn_imb = metrics.fbeta_score(y_test, y_knn_imb_pred, beta=3.16)\n",
    "print(\"Fbeta: {:.3f}\".format(fbeta_knn_imb))\n",
    "confusion_knn_imb = metrics.confusion_matrix(y_test, y_knn_imb_pred)\n",
    "print(confusion_knn_imb)\n",
    "print(metrics.classification_report(y_test, y_knn_imb_pred))\n",
    "# Courbe ROC\n",
    "fpr, tpr, _ = metrics.roc_curve(y_test,  knn_imb.predict_proba(X_test)[:,1])\n",
    "plt.plot(fpr,tpr)\n",
    "plt.ylabel('Ratio de Vrai Positif')\n",
    "plt.xlabel('Ratio de Faux Positif')\n",
    "plt.show()\n",
    "\n",
    "# Entrainement sur le jeu de données sous échantillonné\n",
    "knn_rus = KNeighborsClassifier(n_jobs = -1)\n",
    "start = time()\n",
    "knn_rus.fit(X_train_rus, y_train_rus)\n",
    "end = time()\n",
    "time_knn_rus_train = end - start\n",
    "print(\"Training Time: {:.2f}\".format(time_knn_rus_train))\n",
    "# Prédiction\n",
    "start = time()\n",
    "y_knn_rus_pred = knn_rus.predict(X_test)\n",
    "end = time()\n",
    "time_knn_rus_pred = end - start\n",
    "print(\"Testing Time: {:.2f}\".format(time_knn_rus_pred))\n",
    "# Métriques\n",
    "acc_knn_rus = metrics.accuracy_score(y_test, y_knn_rus_pred)\n",
    "print(\"Accuracy: {:.3f}\".format(acc_knn_rus))\n",
    "fbeta_knn_rus = metrics.fbeta_score(y_test, y_knn_rus_pred, beta=3.16)\n",
    "print(\"Fbeta: {:.3f}\".format(fbeta_knn_rus))\n",
    "confusion_knn_rus = metrics.confusion_matrix(y_test, y_knn_rus_pred)\n",
    "print(confusion_knn_rus)\n",
    "print(metrics.classification_report(y_test, y_knn_rus_pred))\n",
    "# Courbe ROC\n",
    "fpr, tpr, _ = metrics.roc_curve(y_test,  knn_rus.predict_proba(X_test)[:,1])\n",
    "plt.plot(fpr,tpr)\n",
    "plt.ylabel('Ratio de Vrai Positif')\n",
    "plt.xlabel('Ratio de Faux Positif')\n",
    "plt.show()\n",
    "\n",
    "# Entrainement sur le jeu de données sur-échantillonné\n",
    "knn_smote = KNeighborsClassifier(n_jobs = -1)\n",
    "start = time()\n",
    "knn_smote.fit(X_train_smote, y_train_smote)\n",
    "end = time()\n",
    "time_knn_smote_train = end - start\n",
    "print(\"Training Time: {:.2f}\".format(time_knn_smote_train))\n",
    "# Prédiction\n",
    "start = time()\n",
    "y_knn_smote_pred = knn_smote.predict(X_test)\n",
    "end = time()\n",
    "time_knn_smote_pred = end - start\n",
    "print(\"Testing Time: {:.2f}\".format(time_knn_smote_pred))\n",
    "# Métriques\n",
    "acc_knn_smote = metrics.accuracy_score(y_test, y_knn_smote_pred)\n",
    "print(\"Accuracy: {:.3f}\".format(acc_knn_smote))\n",
    "fbeta_knn_smote = metrics.fbeta_score(y_test, y_knn_smote_pred, beta=3.16)\n",
    "print(\"Fbeta: {:.3f}\".format(fbeta_knn_smote))\n",
    "confusion_knn_smote = metrics.confusion_matrix(y_test, y_knn_smote_pred)\n",
    "print(confusion_knn_smote)\n",
    "print(metrics.classification_report(y_test, y_knn_smote_pred))\n",
    "# Courbe ROC\n",
    "fpr, tpr, _ = metrics.roc_curve(y_test,  knn_smote.predict_proba(X_test)[:,1])\n",
    "plt.plot(fpr,tpr)\n",
    "plt.ylabel('Ratio de Vrai Positif')\n",
    "plt.xlabel('Ratio de Faux Positif')\n",
    "plt.show()"
   ]
  },
  {
   "cell_type": "code",
   "execution_count": null,
   "metadata": {},
   "outputs": [],
   "source": []
  },
  {
   "cell_type": "markdown",
   "metadata": {},
   "source": [
    "Sur le jeu de données déséquilibré, on retrouve la précision la plus élevée mais on remarque qu'il ne parvient à détecter seulement 122 TP ce qui est très faible. Le Fbeta résultant qui met l'accent sur les TP est donc très bas. Ici le problème du déséquilibre de classes est flagrant.\n",
    "\n",
    "Sur le jeu sous échantillonné, la précision est la plus faible, il repère en effet beaucoup de FP, cependant c'est sur ce jeu là que l'on trouve le plus de TP, il obtient donc le Fbeta le plus élevé.\n",
    "\n",
    "Sur le jeu sur-échantillonné, on obtient des performances plus faibles sur le nombre de TP, il échoue à détecter plus de la moitié des positifs.\n",
    "\n",
    "Globalement, si le jeu sous-échantillonné s'en sort mieux (en prenant comme objectif Fbeta avec beta=3.16), le modèle KNN présente des performances faibles, il repère au mieux 59% des positifs avec un taux de FP de presque 10%."
   ]
  },
  {
   "cell_type": "markdown",
   "metadata": {},
   "source": [
    "Pour la suite de la recherche du meilleur algorithme et pour optimiser la recherche des hyperparamètres, il serait intéressant de réduire la taille de l'échantillon et s'il faut réduire l'échantillon pour accélérer cette phase, alors autant en profiter pour le rééquilibrer. La recherche de l'algorithme et des hyper paramèrtres optimaux se fera donc avec le jeu de données rééquilibré par échantillonnage."
   ]
  },
  {
   "cell_type": "code",
   "execution_count": null,
   "metadata": {},
   "outputs": [],
   "source": [
    "# Regression logistique avec GridSearchCV\n",
    "from sklearn.linear_model import LogisticRegression\n",
    "paramGrid = {'penalty': ['l1','l2','elasticnet'], 'random_state' : [0],\n",
    "             'class_weight' : [None], 'solver' : ['newton-cg', 'lbfgs', 'liblinear','sag','saga'],\n",
    "             'max_iter' :[1000],'l1_ratio' : [0.5], 'n_jobs':[-1]}\n",
    "\n",
    "# Entrainement sur le jeu de données sous échantillonné\n",
    "start = time()\n",
    "reg_rus = reg = model_selection.GridSearchCV(LogisticRegression(), paramGrid, cv=5,\n",
    "                                             scoring=target)\n",
    "reg_rus.fit(X_train_rus, y_train_rus)\n",
    "end = time()\n",
    "time_reg_grid = end - start\n",
    "print(\"Testing Time: {:.2f}\".format(time_reg_grid))\n",
    "\n",
    "print(reg_rus.best_params_)\n",
    "# Afficher les performances correspondantes\n",
    "print(\"Résultats de la validation croisée :\")\n",
    "for mean, std, params in zip(reg_rus.cv_results_['mean_test_score'],\n",
    "                             reg_rus.cv_results_['std_test_score'],\n",
    "                             reg_rus.cv_results_['params']):\n",
    "    print(\"{} = {:.3f} (+/-{:.03f}) for {}\".format(target,mean,std,params))"
   ]
  },
  {
   "cell_type": "markdown",
   "metadata": {},
   "source": [
    "Le meilleur solver par regression logistique semble être le liblinear avec une pénalité l2. Nous allons maintenant le tester avec les 3 jeux de données."
   ]
  },
  {
   "cell_type": "code",
   "execution_count": null,
   "metadata": {},
   "outputs": [],
   "source": [
    "# Regression Logistique\n",
    "from sklearn.linear_model import LogisticRegression\n",
    "# Entrainement sur le jeu de données déséquilibré\n",
    "reg_imb = LogisticRegression(penalty = 'l2', solver = 'liblinear', random_state = 0,\n",
    "                             max_iter = 1000, n_jobs = -1)\n",
    "start = time()\n",
    "reg_imb.fit(X_train, y_train)\n",
    "end = time()\n",
    "time_reg_imb_train = end - start\n",
    "print(\"Training Time: {:.2f}\".format(time_reg_imb_train))\n",
    "# Prédiction\n",
    "start = time()\n",
    "y_reg_imb_pred = reg_imb.predict(X_test)\n",
    "end = time()\n",
    "time_reg_imb_pred = end - start\n",
    "print(\"Testing Time: {:.2f}\".format(time_reg_imb_pred))\n",
    "# Métriques\n",
    "acc_reg_imb = metrics.accuracy_score(y_test, y_reg_imb_pred)\n",
    "print(\"Accuracy: {:.3f}\".format(acc_reg_imb))\n",
    "fbeta_reg_imb = metrics.fbeta_score(y_test, y_reg_imb_pred, beta=3.16)\n",
    "print(\"Fbeta: {:.3f}\".format(fbeta_reg_imb))\n",
    "confusion_reg_imb = metrics.confusion_matrix(y_test, y_reg_imb_pred)\n",
    "print(confusion_reg_imb)\n",
    "print(metrics.classification_report(y_test, y_reg_imb_pred))\n",
    "# Courbe ROC\n",
    "fpr, tpr, _ = metrics.roc_curve(y_test,  reg_imb.predict_proba(X_test)[:,1])\n",
    "plt.plot(fpr,tpr)\n",
    "plt.ylabel('Ratio de Vrai Positif')\n",
    "plt.xlabel('Ratio de Faux Positif')\n",
    "plt.show()\n",
    "\n",
    "# Entrainement sur le jeu de données sous échantillonné\n",
    "reg_rus = LogisticRegression(penalty = 'l2', solver = 'liblinear', random_state = 0,\n",
    "                             max_iter = 1000, n_jobs = -1)\n",
    "start = time()\n",
    "reg_rus.fit(X_train_rus, y_train_rus)\n",
    "end = time()\n",
    "time_reg_rus_train = end - start\n",
    "print(\"Training Time: {:.2f}\".format(time_reg_rus_train))\n",
    "# Prédiction\n",
    "start = time()\n",
    "y_reg_rus_pred = reg_rus.predict(X_test)\n",
    "end = time()\n",
    "time_reg_rus_pred = end - start\n",
    "print(\"Testing Time: {:.2f}\".format(time_reg_rus_pred))\n",
    "# Métriques\n",
    "acc_reg_rus = metrics.accuracy_score(y_test, y_reg_rus_pred)\n",
    "print(\"Accuracy: {:.3f}\".format(acc_reg_rus))\n",
    "fbeta_reg_rus = metrics.fbeta_score(y_test, y_reg_rus_pred, beta=3.16)\n",
    "print(\"Fbeta: {:.3f}\".format(fbeta_reg_rus))\n",
    "confusion_reg_rus = metrics.confusion_matrix(y_test, y_reg_rus_pred)\n",
    "print(confusion_reg_rus)\n",
    "print(metrics.classification_report(y_test, y_reg_rus_pred))\n",
    "# Courbe ROC\n",
    "fpr, tpr, _ = metrics.roc_curve(y_test,  reg_rus.predict_proba(X_test)[:,1])\n",
    "plt.plot(fpr,tpr)\n",
    "plt.ylabel('Ratio de Vrai Positif')\n",
    "plt.xlabel('Ratio de Faux Positif')\n",
    "plt.show()\n",
    "\n",
    "# Entrainement sur le jeu de données sur-échantillonné\n",
    "reg_smote = LogisticRegression(penalty = 'l2', solver = 'liblinear', random_state = 0,\n",
    "                               max_iter = 1000, n_jobs = -1)\n",
    "start = time()\n",
    "reg_smote.fit(X_train_smote, y_train_smote)\n",
    "end = time()\n",
    "time_reg_smote_train = end - start\n",
    "print(\"Training Time: {:.2f}\".format(time_reg_smote_train))\n",
    "# Prédiction\n",
    "start = time()\n",
    "y_reg_smote_pred = reg_smote.predict(X_test)\n",
    "end = time()\n",
    "time_reg_smote_pred = end - start\n",
    "print(\"Testing Time: {:.2f}\".format(time_reg_smote_pred))\n",
    "# Métriques\n",
    "acc_reg_smote = metrics.accuracy_score(y_test, y_reg_smote_pred)\n",
    "print(\"Accuracy: {:.3f}\".format(acc_reg_smote))\n",
    "fbeta_reg_smote = metrics.fbeta_score(y_test, y_reg_smote_pred, beta=3.16)\n",
    "print(\"Fbeta: {:.3f}\".format(fbeta_reg_smote))\n",
    "confusion_reg_smote = metrics.confusion_matrix(y_test, y_reg_smote_pred)\n",
    "print(confusion_reg_smote)\n",
    "print(metrics.classification_report(y_test, y_reg_smote_pred))\n",
    "# Courbe ROC\n",
    "fpr, tpr, _ = metrics.roc_curve(y_test,  reg_smote.predict_proba(X_test)[:,1])\n",
    "plt.plot(fpr,tpr)\n",
    "plt.ylabel('Ratio de Vrai Positif')\n",
    "plt.xlabel('Ratio de Faux Positif')\n",
    "plt.show()"
   ]
  },
  {
   "cell_type": "markdown",
   "metadata": {},
   "source": [
    "La comparaison des jeux de données est assez similaire avec celle que nous avons fait lors du kNN, le jeu déséquilibré apporte une précision très élevée mais ne parvient pas à détecter les TP, le jeu sous-échantillonné présente les meilleurs résultats sur la métrique principale (Fbeta score).\n",
    "\n",
    "Si la regression logistique présente de meilleurs résultats que le kNN, notamment sur une bonne détection des TP, elle échoue en détectant près d'un tiers de faux positifs. Au vu de l'utilisation finale du modèle, ces résultats ne me semblent pas suffisants."
   ]
  },
  {
   "cell_type": "code",
   "execution_count": null,
   "metadata": {},
   "outputs": [],
   "source": [
    "# Random forest avec GridSearch CV\n",
    "from sklearn.ensemble import GradientBoostingClassifier\n",
    "# Grilles dans l'ordre de recherche\n",
    "paramGrid1 = {'loss' : ['deviance', 'exponential'], 'max_depth': [3,4,5],\n",
    "             'learning_rate':[0.05,0.1,0.02] ,  'n_estimators':[50,100,200], \n",
    "             'random_state':[0]}\n",
    "paramGrid2 = {'loss' : ['exponential'], 'learning_rate':[0.08,0.1,0.12], 'max_depth': [4],\n",
    "              'n_estimators':[150,200,250], 'random_state':[0]}\n",
    "paramGrid3 = {'loss' : ['exponential'], 'learning_rate': [0.12, 0.15, 0.25] , 'max_depth': [4],\n",
    "              'n_estimators':[250,300,400], 'random_state':[0]}\n",
    "\n",
    "# Entrainement sur le jeu de données sous echantillonné\n",
    "start = time()\n",
    "rf_rus = model_selection.GridSearchCV(GradientBoostingClassifier(), paramGrid1, cv=5,\n",
    "                                      scoring=target)\n",
    "rf_rus.fit(X_train_rus, y_train_rus)\n",
    "end = time()\n",
    "time_rf_grid = end - start\n",
    "print(\"Testing Time: {:.2f}\".format(time_rf_grid))\n",
    "\n",
    "print(rf_rus.best_params_)\n",
    "# Afficher les performances correspondantes\n",
    "print(\"Résultats de la validation croisée :\")\n",
    "for mean, std, params in zip(rf_rus.cv_results_['mean_test_score'], \n",
    "                             rf_rus.cv_results_['std_test_score'], rf_rus.cv_results_['params']):\n",
    "    print(\"{} = {:.3f} (+/-{:.03f}) for {}\".format(target,mean,std,params))"
   ]
  },
  {
   "cell_type": "markdown",
   "metadata": {},
   "source": [
    "En première approche, on a trouvé les meilleurs paramètres tels que : {'learning_rate': 0.1, 'loss': 'exponential', 'max_depth': 4, 'n_estimators': 200, 'random_state': 0}\n",
    "\n",
    "En deuxième approche, {'learning_rate': 0.12, 'loss': 'exponential', 'max_depth': 4, 'n_estimators': 250, 'random_state': 0}\n",
    "\n",
    "En troisième approche, {'learning_rate': 0.12, 'loss': 'exponential', 'max_depth': 4, 'n_estimators': 250, 'random_state': 0} \n",
    "\n",
    "Les mêmes paramètres qu'en deuxième approche.\n",
    "\n",
    "Nous allons maintenant tester ces paramètres avec les 3 jeux de données."
   ]
  },
  {
   "cell_type": "code",
   "execution_count": 7,
   "metadata": {
    "scrolled": true
   },
   "outputs": [
    {
     "name": "stdout",
     "output_type": "stream",
     "text": [
      "Training Time: 1160.25\n",
      "Testing Time: 0.82\n"
     ]
    },
    {
     "ename": "NameError",
     "evalue": "name 'metrics' is not defined",
     "output_type": "error",
     "traceback": [
      "\u001b[1;31m---------------------------------------------------------------------------\u001b[0m",
      "\u001b[1;31mNameError\u001b[0m                                 Traceback (most recent call last)",
      "\u001b[1;32m<ipython-input-7-3a79c831ea14>\u001b[0m in \u001b[0;36m<module>\u001b[1;34m\u001b[0m\n\u001b[0;32m     16\u001b[0m \u001b[0mprint\u001b[0m\u001b[1;33m(\u001b[0m\u001b[1;34m\"Testing Time: {:.2f}\"\u001b[0m\u001b[1;33m.\u001b[0m\u001b[0mformat\u001b[0m\u001b[1;33m(\u001b[0m\u001b[0mtime_rf_imb_pred\u001b[0m\u001b[1;33m)\u001b[0m\u001b[1;33m)\u001b[0m\u001b[1;33m\u001b[0m\u001b[1;33m\u001b[0m\u001b[0m\n\u001b[0;32m     17\u001b[0m \u001b[1;31m# Métriques\u001b[0m\u001b[1;33m\u001b[0m\u001b[1;33m\u001b[0m\u001b[1;33m\u001b[0m\u001b[0m\n\u001b[1;32m---> 18\u001b[1;33m \u001b[0macc_rf_imb\u001b[0m \u001b[1;33m=\u001b[0m \u001b[0mmetrics\u001b[0m\u001b[1;33m.\u001b[0m\u001b[0maccuracy_score\u001b[0m\u001b[1;33m(\u001b[0m\u001b[0my_test\u001b[0m\u001b[1;33m,\u001b[0m \u001b[0my_rf_imb_pred\u001b[0m\u001b[1;33m)\u001b[0m\u001b[1;33m\u001b[0m\u001b[1;33m\u001b[0m\u001b[0m\n\u001b[0m\u001b[0;32m     19\u001b[0m \u001b[0mprint\u001b[0m\u001b[1;33m(\u001b[0m\u001b[1;34m\"Accuracy: {:.3f}\"\u001b[0m\u001b[1;33m.\u001b[0m\u001b[0mformat\u001b[0m\u001b[1;33m(\u001b[0m\u001b[0macc_rf_imb\u001b[0m\u001b[1;33m)\u001b[0m\u001b[1;33m)\u001b[0m\u001b[1;33m\u001b[0m\u001b[1;33m\u001b[0m\u001b[0m\n\u001b[0;32m     20\u001b[0m \u001b[0mfbeta_rf_imb\u001b[0m \u001b[1;33m=\u001b[0m \u001b[0mmetrics\u001b[0m\u001b[1;33m.\u001b[0m\u001b[0mfbeta_score\u001b[0m\u001b[1;33m(\u001b[0m\u001b[0my_test\u001b[0m\u001b[1;33m,\u001b[0m \u001b[0my_rf_imb_pred\u001b[0m\u001b[1;33m,\u001b[0m \u001b[0mbeta\u001b[0m\u001b[1;33m=\u001b[0m\u001b[1;36m3.16\u001b[0m\u001b[1;33m)\u001b[0m\u001b[1;33m\u001b[0m\u001b[1;33m\u001b[0m\u001b[0m\n",
      "\u001b[1;31mNameError\u001b[0m: name 'metrics' is not defined"
     ]
    }
   ],
   "source": [
    "# Random Forest avec Gradient Boosting\n",
    "from sklearn.ensemble import GradientBoostingClassifier\n",
    "# Entrainement sur le jeu de données déséquilibré\n",
    "rf_imb = GradientBoostingClassifier(learning_rate = 0.12, loss = 'exponential', max_depth = 4, \n",
    "                                    n_estimators = 250, random_state = 0)\n",
    "start = time()\n",
    "rf_imb.fit(X_train, y_train)\n",
    "end = time()\n",
    "time_rf_imb_train = end - start\n",
    "print(\"Training Time: {:.2f}\".format(time_rf_imb_train))\n",
    "# Prédiction\n",
    "start = time()\n",
    "y_rf_imb_pred = rf_imb.predict(X_test)\n",
    "end = time()\n",
    "time_rf_imb_pred = end - start\n",
    "print(\"Testing Time: {:.2f}\".format(time_rf_imb_pred))\n",
    "# Métriques\n",
    "acc_rf_imb = metrics.accuracy_score(y_test, y_rf_imb_pred)\n",
    "print(\"Accuracy: {:.3f}\".format(acc_rf_imb))\n",
    "fbeta_rf_imb = metrics.fbeta_score(y_test, y_rf_imb_pred, beta=3.16)\n",
    "print(\"Fbeta: {:.3f}\".format(fbeta_rf_imb))\n",
    "confusion_rf_imb = metrics.confusion_matrix(y_test, y_rf_imb_pred)\n",
    "print(confusion_rf_imb)\n",
    "print(metrics.classification_report(y_test, y_rf_imb_pred))\n",
    "# Courbe ROC\n",
    "fpr, tpr, _ = metrics.roc_curve(y_test,  rf_imb.predict_proba(X_test)[:,1])\n",
    "plt.plot(fpr,tpr)\n",
    "plt.ylabel('Ratio de Vrai Positif')\n",
    "plt.xlabel('Ratio de Faux Positif')\n",
    "plt.show()\n",
    "\n",
    "# Entrainement sur le jeu de données sous échantillonné\n",
    "rf_rus = GradientBoostingClassifier(learning_rate = 0.12, loss = 'exponential', max_depth = 4, \n",
    "                                    n_estimators = 250, random_state = 0)\n",
    "start = time()\n",
    "rf_rus.fit(X_train_rus, y_train_rus)\n",
    "end = time()\n",
    "time_rf_rus_train = end - start\n",
    "print(\"Training Time: {:.2f}\".format(time_rf_rus_train))\n",
    "# Prédiction\n",
    "start = time()\n",
    "y_rf_rus_pred = rf_rus.predict(X_test)\n",
    "end = time()\n",
    "time_rf_rus_pred = end - start\n",
    "print(\"Testing Time: {:.2f}\".format(time_rf_rus_pred))\n",
    "# Métriques\n",
    "acc_rf_rus = metrics.accuracy_score(y_test, y_rf_rus_pred)\n",
    "print(\"Accuracy: {:.3f}\".format(acc_rf_rus))\n",
    "fbeta_rf_rus = metrics.fbeta_score(y_test, y_rf_rus_pred, beta=3.16)\n",
    "print(\"Fbeta: {:.3f}\".format(fbeta_rf_rus))\n",
    "confusion_rf_rus = metrics.confusion_matrix(y_test, y_rf_rus_pred)\n",
    "print(confusion_rf_rus)\n",
    "print(metrics.classification_report(y_test, y_rf_rus_pred))\n",
    "# Courbe ROC\n",
    "fpr, tpr, _ = metrics.roc_curve(y_test,  rf_rus.predict_proba(X_test)[:,1])\n",
    "plt.plot(fpr,tpr)\n",
    "plt.ylabel('Ratio de Vrai Positif')\n",
    "plt.xlabel('Ratio de FAux Positif')\n",
    "plt.show()\n",
    "\n",
    "# Entrainement sur le jeu de données sur-échantillonné\n",
    "rf_smote = GradientBoostingClassifier(learning_rate = 0.12, loss = 'exponential', max_depth = 4, \n",
    "                                    n_estimators = 250, random_state = 0)\n",
    "start = time()\n",
    "rf_smote.fit(X_train_smote, y_train_smote)\n",
    "end = time()\n",
    "time_rf_smote_train = end - start\n",
    "print(\"Training Time: {:.2f}\".format(time_rf_smote_train))\n",
    "# Prédiction\n",
    "start = time()\n",
    "y_rf_smote_pred = rf_smote.predict(X_test)\n",
    "end = time()\n",
    "time_rf_smote_pred = end - start\n",
    "print(\"Testing Time: {:.2f}\".format(time_rf_smote_pred))\n",
    "# Métriques\n",
    "acc_rf_smote = metrics.accuracy_score(y_test, y_rf_smote_pred)\n",
    "print(\"Accuracy: {:.3f}\".format(acc_rf_smote))\n",
    "fbeta_rf_smote = metrics.fbeta_score(y_test, y_rf_smote_pred, beta=3.16)\n",
    "print(\"Fbeta: {:.3f}\".format(fbeta_rf_smote))\n",
    "confusion_rf_smote = metrics.confusion_matrix(y_test, y_rf_smote_pred)\n",
    "print(confusion_rf_smote)\n",
    "print(metrics.classification_report(y_test, y_rf_smote_pred))\n",
    "# Courbe ROC\n",
    "fpr, tpr, _ = metrics.roc_curve(y_test,  rf_smote.predict_proba(X_test)[:,1])\n",
    "plt.plot(fpr,tpr)\n",
    "plt.ylabel('Ratio de Vrai Positif')\n",
    "plt.xlabel('Ratio de FAux Positif')\n",
    "plt.show()"
   ]
  },
  {
   "cell_type": "markdown",
   "metadata": {},
   "source": [
    "Sur le modèle de forêt aléatoire avec boost par gradient, on obtient toujours un meilleur résultat avec la méthode de sous-échantillonnage, malgré la perte d'information que cette dernière induit. Avec un score de 0.534, il est même légèrement supérieur à la méthode de regression logistique, malgré la perte d'information que cette dernière induit."
   ]
  },
  {
   "cell_type": "code",
   "execution_count": null,
   "metadata": {},
   "outputs": [],
   "source": [
    "# Balanced Random Forest avec GridSearch CV\n",
    "# Dans ce cas, c'est le jeu de données déséquilibré qui est utilisé \n",
    "# puisque ce modèle est conçu pour ce cas\n",
    "\n",
    "from imblearn.ensemble import BalancedRandomForestClassifier\n",
    "# Grilles dans l'ordre de recherche\n",
    "paramGrid1 = {'max_depth': [3,4,5], 'n_jobs':[-1] , 'n_estimators':[50,100,200], \n",
    "             'random_state':[0]}\n",
    "paramGrid2 = {'n_jobs':[-1], 'max_depth': [4,5,6],\n",
    "              'n_estimators':[175,200,225], 'random_state':[0]}\n",
    "paramGrid3 = {'n_jobs':[-1] , 'max_depth': [6,7,8],\n",
    "              'n_estimators':[200], 'random_state':[0]}\n",
    "\n",
    "# Entrainement sur le jeu de données sous echantillonné\n",
    "start = time()\n",
    "rfb_imb = model_selection.GridSearchCV(BalancedRandomForestClassifier(), paramGrid1, cv=5,\n",
    "                                      scoring=target)\n",
    "rfb_imb.fit(X_train, y_train)\n",
    "end = time()\n",
    "time_rfb_grid = end - start\n",
    "print(\"Testing Time: {:.2f}\".format(time_rfb_grid))\n",
    "\n",
    "print(rfb_imb.best_params_)\n",
    "# Afficher les performances correspondantes\n",
    "print(\"Résultats de la validation croisée :\")\n",
    "for mean, std, params in zip(rfb_imb.cv_results_['mean_test_score'], \n",
    "                             rfb_imb.cv_results_['std_test_score'], rfb_imb.cv_results_['params']):\n",
    "    print(\"{} = {:.3f} (+/-{:.03f}) for {}\".format(target,mean,std,params))"
   ]
  },
  {
   "cell_type": "markdown",
   "metadata": {},
   "source": [
    "En première approche, on obtient les meilleurs paramètres suivants : {'max_depth': 5, 'n_estimators': 200, 'n_jobs': -1, 'random_state': 0}\n",
    "\n",
    "En deuxième approche, {'max_depth': 6, 'n_estimators': 200, 'n_jobs': -1, 'random_state': 0}\n",
    "\n",
    "En troisième approche, {'max_depth': 8, 'n_estimators': 200, 'n_jobs': -1, 'random_state': 0}\n",
    "\n",
    "Nous allons maintenant tester ces paramètres avec les 3 jeux de données."
   ]
  },
  {
   "cell_type": "code",
   "execution_count": null,
   "metadata": {},
   "outputs": [],
   "source": [
    "# Balanced Random Forest avec Gradient Boosting\n",
    "from imblearn.ensemble import BalancedRandomForestClassifier\n",
    "# Entrainement sur le jeu de données déséquilibré\n",
    "rfb_imb = BalancedRandomForestClassifier(max_depth = 8, n_estimators = 200, n_jobs = -1,\n",
    "                                         random_state = 0)\n",
    "start = time()\n",
    "rfb_imb.fit(X_train, y_train)\n",
    "end = time()\n",
    "time_rfb_imb_train = end - start\n",
    "print(\"Training Time: {:.2f}\".format(time_rfb_imb_train))\n",
    "# Prédiction\n",
    "start = time()\n",
    "y_rfb_imb_pred = rfb_imb.predict(X_test)\n",
    "end = time()\n",
    "time_rfb_imb_pred = end - start\n",
    "print(\"Testing Time: {:.2f}\".format(time_rfb_imb_pred))\n",
    "# Métriques\n",
    "acc_rfb_imb = metrics.accuracy_score(y_test, y_rfb_imb_pred)\n",
    "print(\"Accuracy: {:.3f}\".format(acc_rfb_imb))\n",
    "fbeta_rfb_imb = metrics.fbeta_score(y_test, y_rfb_imb_pred, beta=3.16)\n",
    "print(\"Fbeta: {:.3f}\".format(fbeta_rfb_imb))\n",
    "confusion_rfb_imb = metrics.confusion_matrix(y_test, y_rfb_imb_pred)\n",
    "print(confusion_rfb_imb)\n",
    "print(metrics.classification_report(y_test, y_rfb_imb_pred))\n",
    "# Courbe ROC\n",
    "fpr, tpr, _ = metrics.roc_curve(y_test,  rfb_imb.predict_proba(X_test)[:,1])\n",
    "plt.plot(fpr,tpr)\n",
    "plt.ylabel('Ratio de Vrai Positif')\n",
    "plt.xlabel('Ratio de Faux Positif')\n",
    "plt.show()\n",
    "\n",
    "# Entrainement sur le jeu de données sous échantillonné\n",
    "rfb_rus = BalancedRandomForestClassifier(max_depth = 8, n_estimators = 200, n_jobs = -1,\n",
    "                                         random_state = 0)\n",
    "start = time()\n",
    "rfb_rus.fit(X_train_rus, y_train_rus)\n",
    "end = time()\n",
    "time_rfb_rus_train = end - start\n",
    "print(\"Training Time: {:.2f}\".format(time_rfb_rus_train))\n",
    "# Prédiction\n",
    "start = time()\n",
    "y_rfb_rus_pred = rfb_rus.predict(X_test)\n",
    "end = time()\n",
    "time_rfb_rus_pred = end - start\n",
    "print(\"Testing Time: {:.2f}\".format(time_rfb_rus_pred))\n",
    "# Métriques\n",
    "acc_rfb_rus = metrics.accuracy_score(y_test, y_rfb_rus_pred)\n",
    "print(\"Accuracy: {:.3f}\".format(acc_rfb_rus))\n",
    "fbeta_rfb_rus = metrics.fbeta_score(y_test, y_rfb_rus_pred, beta=3.16)\n",
    "print(\"Fbeta: {:.3f}\".format(fbeta_rfb_rus))\n",
    "confusion_rfb_rus = metrics.confusion_matrix(y_test, y_rfb_rus_pred)\n",
    "print(confusion_rfb_rus)\n",
    "print(metrics.classification_report(y_test, y_rfb_rus_pred))\n",
    "# Courbe ROC\n",
    "fpr, tpr, _ = metrics.roc_curve(y_test,  rfb_rus.predict_proba(X_test)[:,1])\n",
    "plt.plot(fpr,tpr)\n",
    "plt.ylabel('Ratio de Vrai Positif')\n",
    "plt.xlabel('Ratio de FAux Positif')\n",
    "plt.show()\n",
    "\n",
    "# Entrainement sur le jeu de données sur-échantillonné\n",
    "rfb_smote = BalancedRandomForestClassifier(max_depth = 8, n_estimators = 200, n_jobs = -1,\n",
    "                                         random_state = 0)\n",
    "start = time()\n",
    "rfb_smote.fit(X_train_smote, y_train_smote)\n",
    "end = time()\n",
    "time_rfb_smote_train = end - start\n",
    "print(\"Training Time: {:.2f}\".format(time_rfb_smote_train))\n",
    "# Prédiction\n",
    "start = time()\n",
    "y_rfb_smote_pred = rfb_smote.predict(X_test)\n",
    "end = time()\n",
    "time_rfb_smote_pred = end - start\n",
    "print(\"Testing Time: {:.2f}\".format(time_rfb_smote_pred))\n",
    "# Métriques\n",
    "acc_rfb_smote = metrics.accuracy_score(y_test, y_rfb_smote_pred)\n",
    "print(\"Accuracy: {:.3f}\".format(acc_rfb_smote))\n",
    "fbeta_rfb_smote = metrics.fbeta_score(y_test, y_rfb_smote_pred, beta=3.16)\n",
    "print(\"Fbeta: {:.3f}\".format(fbeta_rfb_smote))\n",
    "confusion_rfb_smote = metrics.confusion_matrix(y_test, y_rfb_smote_pred)\n",
    "print(confusion_rfb_smote)\n",
    "print(metrics.classification_report(y_test, y_rfb_smote_pred))\n",
    "# Courbe ROC\n",
    "fpr, tpr, _ = metrics.roc_curve(y_test,  rfb_smote.predict_proba(X_test)[:,1])\n",
    "plt.plot(fpr,tpr)\n",
    "plt.ylabel('Ratio de Vrai Positif')\n",
    "plt.xlabel('Ratio de FAux Positif')\n",
    "plt.show()"
   ]
  },
  {
   "cell_type": "markdown",
   "metadata": {},
   "source": [
    "# Synthèse\n",
    "Aucune courbe ROC ne montre un coude marqué suggerant une possible optimisation du seuil de détection. De plus, ces courbes étant calculées sur le jeu de données de test, il ne faut pas oublier que toute optimisation se fera donc à posteriori du test, ce qui crée un biais et risque de provoquer de l'overfitting.\n",
    "\n",
    "En se basant sur le Fbeta score et sur les détails de la classification, le modèle optimal semble être la forêt aléatoire avec boosting par gradient sur le jeu de données sous-échantillonné. Si l'on se réfère à la matrice de confusion, on a 27% de FP ce qui est un point négatif non négligeable mais on réussi à repérer 69% de TP ce qui est plutôt élevé considérant que ce n'est pas un problème de classification aisé (cf Visualisation tsne)."
   ]
  },
  {
   "cell_type": "code",
   "execution_count": null,
   "metadata": {},
   "outputs": [],
   "source": [
    "# Test de la fonction class_weight, cette fonction n'existe pas pour GradientBoostingClassifier,\n",
    "# notre modèle optimal, mais on peut la tester sur LogisticRegression\n",
    "\n",
    "# Regression Logistique\n",
    "from sklearn.linear_model import LogisticRegression\n",
    "# Entrainement sur le jeu de données déséquilibré\n",
    "regCW_imb = LogisticRegression(penalty = 'l2', solver = 'liblinear', random_state = 0,\n",
    "                             max_iter = 1000, class_weight='balanced', n_jobs = -1)\n",
    "start = time()\n",
    "regCW_imb.fit(X_train, y_train)\n",
    "end = time()\n",
    "time_regCW_imb_train = end - start\n",
    "print(\"Training Time: {:.2f}\".format(time_regCW_imb_train))\n",
    "# Prédiction\n",
    "start = time()\n",
    "y_regCW_imb_pred = regCW_imb.predict(X_test)\n",
    "end = time()\n",
    "time_regCW_imb_pred = end - start\n",
    "print(\"Testing Time: {:.2f}\".format(time_regCW_imb_pred))\n",
    "# Métriques\n",
    "acc_regCW_imb = metrics.accuracy_score(y_test, y_regCW_imb_pred)\n",
    "print(\"Accuracy: {:.3f}\".format(acc_regCW_imb))\n",
    "fbeta_regCW_imb = metrics.fbeta_score(y_test, y_regCW_imb_pred, beta=3.16)\n",
    "print(\"Fbeta: {:.3f}\".format(fbeta_regCW_imb))\n",
    "confusion_regCW_imb = metrics.confusion_matrix(y_test, y_regCW_imb_pred)\n",
    "print(confusion_regCW_imb)\n",
    "print(metrics.classification_report(y_test, y_regCW_imb_pred))\n",
    "# Courbe ROC\n",
    "fpr, tpr, _ = metrics.roc_curve(y_test,  regCW_imb.predict_proba(X_test)[:,1])\n",
    "plt.plot(fpr,tpr)\n",
    "plt.ylabel('Ratio de Vrai Positif')\n",
    "plt.xlabel('Ratio de Faux Positif')\n",
    "plt.show()\n"
   ]
  },
  {
   "cell_type": "markdown",
   "metadata": {},
   "source": [
    "En utilisant class_weight='balanced' sur le jeu de données déséquilibrées, on obtient un résultat de fbeta_score bien plus élevé, il s'avère donc que ce ne sont pas deux méthodes redondantes. Ici on obtient des résultats très très proches du même modèle sans class_weight sur les données sous-échantillonnées."
   ]
  },
  {
   "cell_type": "code",
   "execution_count": null,
   "metadata": {},
   "outputs": [],
   "source": [
    "#Tableau des résultats des modèles optimisés Knn\n",
    "from pandas.plotting import table\n",
    "synthese_knn = pd.DataFrame()\n",
    "synthese_knn = synthese_knn.assign(Dataset = ['Imabalanced', 'Undersampled','Smote'])\n",
    "synthese_knn = synthese_knn.assign(Accuracy = [acc_knn_imb,acc_knn_rus,acc_knn_smote])\n",
    "synthese_knn = synthese_knn.assign(Fbeta = [fbeta_knn_imb,fbeta_knn_rus,fbeta_knn_smote])\n",
    "synthese_knn = synthese_knn.assign(TimeTrain = [time_knn_imb_train,time_knn_rus_train,\n",
    "                                                time_knn_smote_train])\n",
    "synthese_knn = synthese_knn.assign(TimeTest = [time_knn_imb_pred,time_knn_rus_pred,time_knn_smote_pred])\n",
    "print(synthese_knn)\n",
    "\n",
    "# Affichage sous forme de tableau à télécharger\n",
    "plt.figure(figsize=(8,6))\n",
    "# Pas d'axes\n",
    "ax = plt.subplot(frame_on=False)\n",
    "ax.xaxis.set_visible(False)\n",
    "ax.yaxis.set_visible(False)\n",
    "#Création du tableau\n",
    "table(ax, synthese_knn.round(decimals=3))\n",
    "plt.show()"
   ]
  },
  {
   "cell_type": "code",
   "execution_count": null,
   "metadata": {},
   "outputs": [],
   "source": [
    "#Tableau des résultats des modèles optimisés Regression Logistique\n",
    "synthese_reg = pd.DataFrame()\n",
    "synthese_reg = synthese_reg.assign(Dataset = ['Imabalanced', 'Undersampled','Smote','Imbalanced CW'])\n",
    "synthese_reg = synthese_reg.assign(Accuracy = [acc_reg_imb,acc_reg_rus,acc_reg_smote, acc_regCW_imb])\n",
    "synthese_reg = synthese_reg.assign(Fbeta = [fbeta_reg_imb,fbeta_reg_rus,fbeta_reg_smote,\n",
    "                                            fbeta_regCW_imb])\n",
    "synthese_reg = synthese_reg.assign(TimeTrain = [time_reg_imb_train,time_reg_rus_train, \n",
    "                                                time_reg_smote_train, time_regCW_imb_train])\n",
    "synthese_reg = synthese_reg.assign(TimeTest = [time_reg_imb_pred,time_reg_rus_pred,time_reg_smote_pred,\n",
    "                                               time_regCW_imb_pred])\n",
    "print(synthese_reg)\n",
    "\n",
    "# Affichage sous forme de tableau à télécharger\n",
    "plt.figure(figsize=(8,6))\n",
    "# Pas d'axes\n",
    "ax = plt.subplot(frame_on=False)\n",
    "ax.xaxis.set_visible(False)\n",
    "ax.yaxis.set_visible(False)\n",
    "#Création du tableau\n",
    "table(ax, synthese_knn.round(decimals=3))\n",
    "plt.show()"
   ]
  },
  {
   "cell_type": "code",
   "execution_count": null,
   "metadata": {},
   "outputs": [],
   "source": [
    "#Tableau des résultats des modèles optimisés Random Forest\n",
    "synthese_rf = pd.DataFrame()\n",
    "synthese_rf = synthese_rf.assign(Dataset = ['Imabalanced', 'Undersampled','Smote'])\n",
    "synthese_rf = synthese_rf.assign(Accuracy = [acc_rf_imb,acc_rf_rus,acc_rf_smote])\n",
    "synthese_rf = synthese_rf.assign(Fbeta = [fbeta_rf_imb,fbeta_rf_rus,fbeta_rf_smote])\n",
    "synthese_rf = synthese_rf.assign(TimeTrain = [time_rf_imb_train,time_rf_rus_train,time_rf_smote_train])\n",
    "synthese_rf = synthese_rf.assign(TimeTest = [time_rf_imb_pred,time_rf_rus_pred,time_rf_smote_pred])\n",
    "print(synthese_rf)\n",
    "\n",
    "# Affichage sous forme de tableau à télécharger\n",
    "plt.figure(figsize=(8,6))\n",
    "# Pas d'axes\n",
    "ax = plt.subplot(frame_on=False)\n",
    "ax.xaxis.set_visible(False)\n",
    "ax.yaxis.set_visible(False)\n",
    "#Création du tableau\n",
    "table(ax, synthese_knn.round(decimals=3))\n",
    "plt.show()"
   ]
  },
  {
   "cell_type": "code",
   "execution_count": null,
   "metadata": {},
   "outputs": [],
   "source": [
    "#Tableau des résultats des modèles optimisés Balanced Random Forest\n",
    "synthese_rfb = pd.DataFrame()\n",
    "synthese_rfb = synthese_rfb.assign(Dataset = ['Imabalanced', 'Undersampled','Smote'])\n",
    "synthese_rfb = synthese_rfb.assign(Accuracy = [acc_rfb_imb,acc_rfb_rus,acc_rfb_smote])\n",
    "synthese_rfb = synthese_rfb.assign(Fbeta = [fbeta_rfb_imb,fbeta_rfb_rus,fbeta_rfb_smote])\n",
    "synthese_rfb = synthese_rfb.assign(TimeTrain = [time_rfb_imb_train,time_rfb_rus_train,time_rfb_smote_train])\n",
    "synthese_rfb = synthese_rfb.assign(TimeTest = [time_rfb_imb_pred,time_rfb_rus_pred,time_rfb_smote_pred])\n",
    "print(synthese_rfb)\n",
    "\n",
    "# Affichage sous forme de tableau à télécharger\n",
    "plt.figure(figsize=(8,6))\n",
    "# Pas d'axes\n",
    "ax = plt.subplot(frame_on=False)\n",
    "ax.xaxis.set_visible(False)\n",
    "ax.yaxis.set_visible(False)\n",
    "#Création du tableau\n",
    "table(ax, synthese_knn.round(decimals=3))\n",
    "plt.show()"
   ]
  },
  {
   "cell_type": "code",
   "execution_count": 12,
   "metadata": {},
   "outputs": [
    {
     "name": "stdout",
     "output_type": "stream",
     "text": [
      "Training Time: 146.70\n",
      "Testing Time: 0.83\n",
      "Accuracy: 0.694\n",
      "Fbeta: 0.534\n",
      "[[58912 26002]\n",
      " [ 2271  5069]]\n",
      "              precision    recall  f1-score   support\n",
      "\n",
      "         0.0       0.96      0.69      0.81     84914\n",
      "         1.0       0.16      0.69      0.26      7340\n",
      "\n",
      "    accuracy                           0.69     92254\n",
      "   macro avg       0.56      0.69      0.54     92254\n",
      "weighted avg       0.90      0.69      0.76     92254\n",
      "\n"
     ]
    },
    {
     "data": {
      "image/png": "[encoded data removed]",
      "text/plain": [
       "<Figure size 432x288 with 1 Axes>"
      ]
     },
     "metadata": {
      "needs_background": "light"
     },
     "output_type": "display_data"
    }
   ],
   "source": [
    "rf_rus = GradientBoostingClassifier(learning_rate = 0.12, loss = 'exponential', max_depth = 4, \n",
    "                                    n_estimators = 250, random_state = 0)\n",
    "start = time()\n",
    "rf_rus.fit(X_train_rus, y_train_rus)\n",
    "end = time()\n",
    "time_rf_rus_train = end - start\n",
    "print(\"Training Time: {:.2f}\".format(time_rf_rus_train))\n",
    "# Prédiction\n",
    "start = time()\n",
    "y_rf_rus_pred = rf_rus.predict(X_test)\n",
    "end = time()\n",
    "time_rf_rus_pred = end - start\n",
    "print(\"Testing Time: {:.2f}\".format(time_rf_rus_pred))\n",
    "# Métriques\n",
    "acc_rf_rus = metrics.accuracy_score(y_test, y_rf_rus_pred)\n",
    "print(\"Accuracy: {:.3f}\".format(acc_rf_rus))\n",
    "fbeta_rf_rus = metrics.fbeta_score(y_test, y_rf_rus_pred, beta=3.16)\n",
    "print(\"Fbeta: {:.3f}\".format(fbeta_rf_rus))\n",
    "confusion_rf_rus = metrics.confusion_matrix(y_test, y_rf_rus_pred)\n",
    "print(confusion_rf_rus)\n",
    "print(metrics.classification_report(y_test, y_rf_rus_pred))\n",
    "# Courbe ROC\n",
    "fpr, tpr, _ = metrics.roc_curve(y_test,  rf_rus.predict_proba(X_test)[:,1])\n",
    "plt.plot(fpr,tpr)\n",
    "plt.ylabel('Ratio de Vrai Positif')\n",
    "plt.xlabel('Ratio de FAux Positif')\n",
    "plt.show()"
   ]
  },
  {
   "cell_type": "code",
   "execution_count": 13,
   "metadata": {},
   "outputs": [
    {
     "data": {
      "text/plain": [
       "['model_rf.pkl']"
      ]
     },
     "execution_count": 13,
     "metadata": {},
     "output_type": "execute_result"
    }
   ],
   "source": [
    "# Persistance du modèle\n",
    "import joblib\n",
    "joblib.dump(rf_rus, 'model_rf.pkl')"
   ]
  },
  {
   "cell_type": "code",
   "execution_count": 6,
   "metadata": {},
   "outputs": [],
   "source": [
    "# Création d'un échantillon de données réduit pour le cloud\n",
    "# Pour la prédiction (normalisé)\n",
    "# On réintègre le SK_ID_CURR\n",
    "data = data.join(SK_ID_CURR)\n",
    "data_sampled = data.sample(frac=0.09, random_state=0)\n",
    "data_sampled.to_csv(os.path.join(output_dir,'data_sampled.csv'), index=False)\n",
    "# Pour l'affichage de graphiques\n",
    "data_chart = pd.read_csv(os.path.join(default_dir,'data_train.csv'))\n",
    "data_chart_sampled = data_chart.sample(frac=0.09, random_state=0)\n",
    "data_chart_sampled.to_csv(os.path.join(output_dir,'data_chart_sampled.csv'), index=False)"
   ]
  },
  {
   "cell_type": "code",
   "execution_count": null,
   "metadata": {},
   "outputs": [],
   "source": [
    "data.head()"
   ]
  },
  {
   "cell_type": "code",
   "execution_count": null,
   "metadata": {},
   "outputs": [],
   "source": [
    "data = data.join(SK_ID_CURR)"
   ]
  },
  {
   "cell_type": "code",
   "execution_count": null,
   "metadata": {},
   "outputs": [],
   "source": [
    "data.head()"
   ]
  },
  {
   "cell_type": "code",
   "execution_count": null,
   "metadata": {},
   "outputs": [],
   "source": [
    "data[data['SK_ID_CURR']==100003]"
   ]
  },
  {
   "cell_type": "code",
   "execution_count": null,
   "metadata": {},
   "outputs": [],
   "source": []
  },
  {
   "cell_type": "code",
   "execution_count": null,
   "metadata": {},
   "outputs": [],
   "source": []
  },
  {
   "cell_type": "code",
   "execution_count": null,
   "metadata": {},
   "outputs": [],
   "source": []
  },
  {
   "cell_type": "code",
   "execution_count": null,
   "metadata": {},
   "outputs": [],
   "source": []
  }
 ],
 "metadata": {
  "celltoolbar": "Format de la Cellule Texte Brut",
  "kernelspec": {
   "display_name": "Python 3",
   "language": "python",
   "name": "python3"
  },
  "language_info": {
   "codemirror_mode": {
    "name": "ipython",
    "version": 3
   },
   "file_extension": ".py",
   "mimetype": "text/x-python",
   "name": "python",
   "nbconvert_exporter": "python",
   "pygments_lexer": "ipython3",
   "version": "3.8.5"
  }
 },
 "nbformat": 4,
 "nbformat_minor": 4
}
