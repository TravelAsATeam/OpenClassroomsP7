{
 "cells": [
  {
   "cell_type": "code",
   "execution_count": 4,
   "metadata": {},
   "outputs": [
    {
     "ename": "SyntaxError",
     "evalue": "invalid syntax (<ipython-input-4-92ff2fb25df6>, line 21)",
     "output_type": "error",
     "traceback": [
      "\u001b[1;36m  File \u001b[1;32m\"<ipython-input-4-92ff2fb25df6>\"\u001b[1;36m, line \u001b[1;32m21\u001b[0m\n\u001b[1;33m    if mode_chart = True :\u001b[0m\n\u001b[1;37m                  ^\u001b[0m\n\u001b[1;31mSyntaxError\u001b[0m\u001b[1;31m:\u001b[0m invalid syntax\n"
     ]
    }
   ],
   "source": [
    "import streamlit as st\n",
    "import pandas as pd\n",
    "import seaborn as sns\n",
    "import os\n",
    "\n",
    "# Téléchargement des données\n",
    "default_dir = os.getcwd()\n",
    "data = pd.read_csv(os.path.join(default_dir,'data_sampled.csv'))\n",
    "\n",
    "# Choix du mode de fonctionnement\n",
    "mode_predict = False\n",
    "mode_chart = False\n",
    "if st.button(\"Faire une prediction\"):\n",
    "    mode_predict = True\n",
    "if st.button(\"Afficher un graphique\"):\n",
    "    mode_chart = True\n",
    "\n",
    "# Mode affichage de graphique\n",
    "if mode_chart == True :\n",
    "    features = st.multiselect(\"Choisissez deux variables\", list(data.columns))\n",
    "    if len(features) != 2 :\n",
    "        st.error(\"Sélectionnez deux variables\")\n",
    "    else :\n",
    "        st.write(\"## Graphique bi-varié\")\n",
    "        # Graphique\n",
    "        chart = sns.jointplot(x=data[features[0]], y=data[features[1]], height=10)\n",
    "        # Regression linéaire\n",
    "        sns.regplot(x=data[features[0]], y=data[features[1]], scatter=False, ax=graph.ax_joint)\n",
    "        \n",
    "# Mode prédiction\n",
    "if mode_predict == True :\n",
    "    st.error(\"Non implementé\")\n",
    " "
   ]
  },
  {
   "cell_type": "code",
   "execution_count": 5,
   "metadata": {},
   "outputs": [
    {
     "data": {
      "text/plain": [
       "True"
      ]
     },
     "execution_count": 5,
     "metadata": {},
     "output_type": "execute_result"
    }
   ],
   "source": [
    "1 !=2"
   ]
  },
  {
   "cell_type": "code",
   "execution_count": null,
   "metadata": {},
   "outputs": [],
   "source": []
  }
 ],
 "metadata": {
  "kernelspec": {
   "display_name": "Python 3",
   "language": "python",
   "name": "python3"
  },
  "language_info": {
   "codemirror_mode": {
    "name": "ipython",
    "version": 3
   },
   "file_extension": ".py",
   "mimetype": "text/x-python",
   "name": "python",
   "nbconvert_exporter": "python",
   "pygments_lexer": "ipython3",
   "version": "3.8.5"
  }
 },
 "nbformat": 4,
 "nbformat_minor": 4
}
