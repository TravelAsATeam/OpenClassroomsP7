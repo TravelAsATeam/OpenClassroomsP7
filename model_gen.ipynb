{
 "cells": [
  {
   "cell_type": "code",
   "execution_count": 4,
   "metadata": {},
   "outputs": [
    {
     "name": "stdout",
     "output_type": "stream",
     "text": [
      "Collecting scikit-learn==0.24.2\n",
      "  Downloading scikit_learn-0.24.2-cp38-cp38-win_amd64.whl (6.9 MB)\n",
      "Requirement already satisfied: threadpoolctl>=2.0.0 in g:\\softwares\\anaconda3\\lib\\site-packages (from scikit-learn==0.24.2) (2.1.0)\n",
      "Requirement already satisfied: numpy>=1.13.3 in g:\\softwares\\anaconda3\\lib\\site-packages (from scikit-learn==0.24.2) (1.19.2)\n",
      "Requirement already satisfied: joblib>=0.11 in g:\\softwares\\anaconda3\\lib\\site-packages (from scikit-learn==0.24.2) (0.17.0)\n",
      "Requirement already satisfied: scipy>=0.19.1 in g:\\softwares\\anaconda3\\lib\\site-packages (from scikit-learn==0.24.2) (1.5.2)\n",
      "Installing collected packages: scikit-learn\n",
      "  Attempting uninstall: scikit-learn\n",
      "    Found existing installation: scikit-learn 0.24.1\n",
      "    Uninstalling scikit-learn-0.24.1:\n",
      "      Successfully uninstalled scikit-learn-0.24.1\n",
      "Successfully installed scikit-learn-0.24.2\n",
      "Note: you may need to restart the kernel to use updated packages.\n"
     ]
    }
   ],
   "source": [
    "pip install scikit-learn==0.24.2"
   ]
  },
  {
   "cell_type": "code",
   "execution_count": 1,
   "metadata": {},
   "outputs": [
    {
     "data": {
      "text/plain": [
       "'0.24.2'"
      ]
     },
     "execution_count": 1,
     "metadata": {},
     "output_type": "execute_result"
    }
   ],
   "source": [
    "import sklearn\n",
    "sklearn.__version__"
   ]
  },
  {
   "cell_type": "code",
   "execution_count": 3,
   "metadata": {},
   "outputs": [],
   "source": [
    "import os, sys\n",
    "import pandas as pd\n",
    "import numpy as np\n",
    "from time import time\n",
    "from sklearn.model_selection import GridSearchCV\n",
    "import matplotlib.pyplot as plt\n",
    "\n",
    "# Affichage de toutes les colonnes et lignes lorsque demandé\n",
    "pd.set_option('display.max_rows', None)\n",
    "pd.set_option('display.max_columns', None)"
   ]
  },
  {
   "cell_type": "code",
   "execution_count": 4,
   "metadata": {
    "scrolled": true
   },
   "outputs": [],
   "source": [
    "# Import du fichier de données pré-traitées\n",
    "default_dir = \"G:/OCDataScientist/Projet7\"\n",
    "data = pd.read_csv(os.path.join(default_dir,'data_train.csv'))\n",
    "SK_ID_CURR = data.pop('SK_ID_CURR')\n",
    "\n",
    "# Création d'un imputer pour remplacer les valeurs manquantes\n",
    "from sklearn.impute import SimpleImputer\n",
    "imputer = SimpleImputer(missing_values=np.nan, strategy='mean')\n",
    "# Remplacement des valeurs manquantes\n",
    "temp_DF = pd.DataFrame(imputer.fit_transform(data))\n",
    "# Réintégration des colonnes et index\n",
    "temp_DF.columns = data.columns\n",
    "temp_DF.index = data.index\n",
    "data = temp_DF\n",
    "\n",
    "# Création d'un scaler 0-1\n",
    "from sklearn.preprocessing import MinMaxScaler\n",
    "scaler = MinMaxScaler(feature_range = (0, 1))\n",
    "scaler.fit(data)\n",
    "\n",
    "# Normalisation des variables\n",
    "temp_DF = pd.DataFrame(scaler.transform(data))\n",
    "# Réintégration des colonnes et index\n",
    "temp_DF.columns = data.columns\n",
    "temp_DF.index = data.index\n",
    "data = temp_DF\n",
    "\n",
    "# Sauvegarde du DataFrame des données prêtes à être modélisées\n",
    "#Export des fichiers de données traités\n",
    "output_dir = \"G:/OCDataScientist/Projet7\"\n",
    "data.to_csv(os.path.join(output_dir,'data_train_std.csv'), index=False)\n",
    "\n",
    "# Décomposition train/test\n",
    "y = data['TARGET'].values\n",
    "X = data.drop(columns = ['TARGET']).values\n",
    "from sklearn import model_selection\n",
    "X_train, X_test, y_train, y_test = model_selection.train_test_split(X, y, test_size=0.3,\n",
    "                                                                    random_state=0)"
   ]
  },
  {
   "cell_type": "code",
   "execution_count": 5,
   "metadata": {},
   "outputs": [
    {
     "name": "stdout",
     "output_type": "stream",
     "text": [
      "Répartition originale: Counter({0.0: 197772, 1.0: 17485})\n",
      "Répartition après sous-échantillonnage Counter({0.0: 17485, 1.0: 17485})\n"
     ]
    }
   ],
   "source": [
    "# Sous-échantillonnage\n",
    "from imblearn.under_sampling import RandomUnderSampler\n",
    "rus = RandomUnderSampler(random_state=0, replacement=True)\n",
    "X_train_rus, y_train_rus = rus.fit_resample(X_train, y_train)\n",
    "\n",
    "# Vérification\n",
    "from collections import Counter\n",
    "print('Répartition originale:', Counter(y_train))\n",
    "print('Répartition après sous-échantillonnage', Counter(y_train_rus))"
   ]
  },
  {
   "cell_type": "code",
   "execution_count": 6,
   "metadata": {},
   "outputs": [],
   "source": [
    "# Création d'une métrique adaptée Fbeta score pour le GridSearchCV\n",
    "from sklearn import metrics\n",
    "target = metrics.make_scorer(metrics.fbeta_score, beta=3.16)"
   ]
  },
  {
   "cell_type": "code",
   "execution_count": 7,
   "metadata": {},
   "outputs": [
    {
     "data": {
      "text/plain": [
       "['model_rf.pkl']"
      ]
     },
     "execution_count": 7,
     "metadata": {},
     "output_type": "execute_result"
    }
   ],
   "source": [
    "from sklearn.ensemble import GradientBoostingClassifier\n",
    "rf_rus = GradientBoostingClassifier(learning_rate = 0.12, loss = 'exponential', max_depth = 4, \n",
    "                                    n_estimators = 250, random_state = 0)\n",
    "rf_rus.fit(X_train_rus, y_train_rus)\n",
    "# Persistance du modèle\n",
    "import joblib\n",
    "joblib.dump(rf_rus, 'model_rf.pkl')"
   ]
  },
  {
   "cell_type": "code",
   "execution_count": 8,
   "metadata": {},
   "outputs": [],
   "source": [
    "# Création d'un échantillon de données réduit pour le cloud\n",
    "# Pour la prédiction (normalisé)\n",
    "# On réintègre le SK_ID_CURR\n",
    "data = data.join(SK_ID_CURR)\n",
    "data_sampled = data.sample(frac=0.09, random_state=0)\n",
    "data_sampled.to_csv(os.path.join(output_dir,'data_sampled.csv'), index=False)\n",
    "# Pour l'affichage de graphiques\n",
    "data_chart = pd.read_csv(os.path.join(default_dir,'data_train.csv'))\n",
    "data_chart_sampled = data_chart.sample(frac=0.09, random_state=0)\n",
    "data_chart_sampled.to_csv(os.path.join(output_dir,'data_chart_sampled.csv'), index=False)"
   ]
  },
  {
   "cell_type": "code",
   "execution_count": 28,
   "metadata": {},
   "outputs": [
    {
     "name": "stdout",
     "output_type": "stream",
     "text": [
      "<Response [200]>\n"
     ]
    }
   ],
   "source": [
    "profile_ID = str(149741)\n",
    "query_str = str('SK_ID_CURR == '+ profile_ID)\n",
    "profile_data = data.query(query_str)\n",
    "profile_data = profile_data.drop(['SK_ID_CURR','TARGET'], axis = 1)\n",
    "profile_data = profile_data.to_dict(orient='list')\n",
    "import json\n",
    "request = json.dumps(profile_data)\n",
    "URL='http://travelasateam.pythonanywhere.com/predict/'\n",
    "import requests\n",
    "headers = {'Content-Type': 'application/json'}\n",
    "r = requests.post(URL, headers=headers, data = request, verify=False)\n",
    "print(r)"
   ]
  },
  {
   "cell_type": "code",
   "execution_count": 26,
   "metadata": {},
   "outputs": [],
   "source": [
    "model = joblib.load('model_rf.pkl')\n",
    "#request = json.dumps(profile_data)\n",
    "#json_ = request.json\n",
    "#json_=request\n",
    "#query = pd.DataFrame(json_)\n",
    "profile_ID = str(149741)\n",
    "query_str = str('SK_ID_CURR == '+ profile_ID)\n",
    "profile_data = data.query(query_str)\n",
    "profile_data = profile_data.drop(['SK_ID_CURR','TARGET'], axis = 1)\n",
    "prediction = model.predict(profile_data.values)"
   ]
  },
  {
   "cell_type": "code",
   "execution_count": 32,
   "metadata": {},
   "outputs": [
    {
     "data": {
      "text/plain": [
       "(27676, 245)"
      ]
     },
     "execution_count": 32,
     "metadata": {},
     "output_type": "execute_result"
    }
   ],
   "source": [
    "data_sampled.shape"
   ]
  },
  {
   "cell_type": "code",
   "execution_count": null,
   "metadata": {},
   "outputs": [],
   "source": []
  },
  {
   "cell_type": "code",
   "execution_count": 29,
   "metadata": {},
   "outputs": [
    {
     "data": {
      "text/plain": [
       "<Response [200]>"
      ]
     },
     "execution_count": 29,
     "metadata": {},
     "output_type": "execute_result"
    }
   ],
   "source": [
    "r"
   ]
  },
  {
   "cell_type": "code",
   "execution_count": 31,
   "metadata": {},
   "outputs": [
    {
     "data": {
      "text/plain": [
       "requests.models.Response"
      ]
     },
     "execution_count": 31,
     "metadata": {},
     "output_type": "execute_result"
    }
   ],
   "source": [
    "type(r)"
   ]
  },
  {
   "cell_type": "code",
   "execution_count": null,
   "metadata": {},
   "outputs": [],
   "source": []
  },
  {
   "cell_type": "code",
   "execution_count": null,
   "metadata": {},
   "outputs": [],
   "source": []
  },
  {
   "cell_type": "code",
   "execution_count": null,
   "metadata": {},
   "outputs": [],
   "source": []
  },
  {
   "cell_type": "code",
   "execution_count": 20,
   "metadata": {},
   "outputs": [
    {
     "data": {
      "text/plain": [
       "dict"
      ]
     },
     "execution_count": 20,
     "metadata": {},
     "output_type": "execute_result"
    }
   ],
   "source": [
    "type(profile_data)"
   ]
  },
  {
   "cell_type": "code",
   "execution_count": 24,
   "metadata": {},
   "outputs": [
    {
     "ename": "AttributeError",
     "evalue": "'dict' object has no attribute 'jsonify'",
     "output_type": "error",
     "traceback": [
      "\u001b[1;31m---------------------------------------------------------------------------\u001b[0m",
      "\u001b[1;31mAttributeError\u001b[0m                            Traceback (most recent call last)",
      "\u001b[1;32m<ipython-input-24-c08661d4a873>\u001b[0m in \u001b[0;36m<module>\u001b[1;34m\u001b[0m\n\u001b[1;32m----> 1\u001b[1;33m \u001b[0mprofile_data\u001b[0m\u001b[1;33m.\u001b[0m\u001b[0mjsonify\u001b[0m\u001b[1;33m(\u001b[0m\u001b[1;33m)\u001b[0m\u001b[1;33m\u001b[0m\u001b[1;33m\u001b[0m\u001b[0m\n\u001b[0m",
      "\u001b[1;31mAttributeError\u001b[0m: 'dict' object has no attribute 'jsonify'"
     ]
    }
   ],
   "source": [
    "profile_data"
   ]
  },
  {
   "cell_type": "code",
   "execution_count": null,
   "metadata": {},
   "outputs": [],
   "source": []
  },
  {
   "cell_type": "code",
   "execution_count": null,
   "metadata": {},
   "outputs": [],
   "source": []
  },
  {
   "cell_type": "code",
   "execution_count": null,
   "metadata": {},
   "outputs": [],
   "source": []
  },
  {
   "cell_type": "code",
   "execution_count": null,
   "metadata": {},
   "outputs": [],
   "source": []
  },
  {
   "cell_type": "code",
   "execution_count": null,
   "metadata": {},
   "outputs": [],
   "source": []
  },
  {
   "cell_type": "code",
   "execution_count": 10,
   "metadata": {},
   "outputs": [
    {
     "data": {
      "text/plain": [
       "'0.24.2'"
      ]
     },
     "execution_count": 10,
     "metadata": {},
     "output_type": "execute_result"
    }
   ],
   "source": [
    "import sklearn\n",
    "sklearn.__version__"
   ]
  },
  {
   "cell_type": "code",
   "execution_count": 15,
   "metadata": {},
   "outputs": [],
   "source": [
    "request = json.dumps(profile_data)"
   ]
  },
  {
   "cell_type": "code",
   "execution_count": 17,
   "metadata": {},
   "outputs": [
    {
     "data": {
      "text/plain": [
       "str"
      ]
     },
     "execution_count": 17,
     "metadata": {},
     "output_type": "execute_result"
    }
   ],
   "source": [
    "type(request)\n"
   ]
  },
  {
   "cell_type": "code",
   "execution_count": null,
   "metadata": {},
   "outputs": [],
   "source": []
  },
  {
   "cell_type": "code",
   "execution_count": null,
   "metadata": {},
   "outputs": [],
   "source": []
  },
  {
   "cell_type": "code",
   "execution_count": null,
   "metadata": {},
   "outputs": [],
   "source": []
  }
 ],
 "metadata": {
  "celltoolbar": "Format de la Cellule Texte Brut",
  "kernelspec": {
   "display_name": "Python 3",
   "language": "python",
   "name": "python3"
  },
  "language_info": {
   "codemirror_mode": {
    "name": "ipython",
    "version": 3
   },
   "file_extension": ".py",
   "mimetype": "text/x-python",
   "name": "python",
   "nbconvert_exporter": "python",
   "pygments_lexer": "ipython3",
   "version": "3.8.5"
  }
 },
 "nbformat": 4,
 "nbformat_minor": 4
}
